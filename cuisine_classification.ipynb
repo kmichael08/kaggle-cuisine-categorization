{
 "cells": [
  {
   "cell_type": "markdown",
   "metadata": {},
   "source": [
    "## Cuisine classification"
   ]
  },
  {
   "cell_type": "code",
   "execution_count": 3,
   "metadata": {},
   "outputs": [
    {
     "name": "stdout",
     "output_type": "stream",
     "text": [
      "Id,cuisine\r\n",
      "24888,italian\r\n",
      "43564,italian\r\n",
      "21898,italian\r\n",
      "6991,italian\r\n",
      "37700,italian\r\n",
      "43546,italian\r\n",
      "20544,italian\r\n",
      "14160,italian\r\n",
      "21405,italian\r\n"
     ]
    }
   ],
   "source": [
    "!head sample_submission.csv"
   ]
  },
  {
   "cell_type": "code",
   "execution_count": 8,
   "metadata": {},
   "outputs": [
    {
     "name": "stdout",
     "output_type": "stream",
     "text": [
      "30000\n",
      "[{'ingredients': ['romaine lettuce', 'sliced almonds', 'vegetable oil', 'scallions', 'soy sauce', 'cooked chicken', 'napa cabbage', 'chopped cilantro fresh', 'sugar', 'sesame seeds', 'wonton wrappers', 'fresh lemon juice', 'white vinegar', 'black pepper', 'sesame oil', 'salt', 'snow peas'], 'cuisine': 'chinese', 'id': 29565}]\n"
     ]
    }
   ],
   "source": [
    "import json\n",
    "with open('cooking_train.json') as f:\n",
    "    trainset = json.load(f)\n",
    "\n",
    "print(len(trainset))\n",
    "print(trainset[:1])"
   ]
  },
  {
   "cell_type": "markdown",
   "metadata": {},
   "source": [
    "#### Let's see what labels we have"
   ]
  },
  {
   "cell_type": "code",
   "execution_count": 33,
   "metadata": {},
   "outputs": [
    {
     "name": "stdout",
     "output_type": "stream",
     "text": [
      "                 0\n",
      "thai          1164\n",
      "vietnamese     620\n",
      "greek          898\n",
      "brazilian      352\n",
      "indian        2285\n",
      "filipino       564\n",
      "korean         616\n",
      "japanese      1076\n",
      "irish          498\n",
      "cajun_creole  1160\n",
      "jamaican       404\n",
      "chinese       2014\n",
      "moroccan       605\n",
      "mexican       4886\n",
      "spanish        741\n",
      "russian        360\n",
      "italian       5894\n",
      "british        600\n",
      "french        1983\n",
      "southern_us   3280\n"
     ]
    }
   ],
   "source": [
    "from collections import Counter\n",
    "import pandas as pd\n",
    "\n",
    "labels = [meal['cuisine'] for meal in trainset]\n",
    "\n",
    "cuisine_counter = Counter(labels)\n",
    "cuisines_df = pd.DataFrame.from_dict(cuisine_counter, orient='index')\n",
    "\n",
    "print(cuisines_df)"
   ]
  },
  {
   "cell_type": "code",
   "execution_count": 31,
   "metadata": {},
   "outputs": [
    {
     "data": {
      "image/png": "[encoded data removed]",
      "text/plain": [
       "<matplotlib.figure.Figure at 0x7f84d5054358>"
      ]
     },
     "metadata": {},
     "output_type": "display_data"
    }
   ],
   "source": [
    "import matplotlib.pyplot as plt\n",
    "import seaborn as sns\n",
    "\n",
    "cuisines_df.plot(kind='bar', figsize=(16, 5))\n",
    "plt.show()"
   ]
  },
  {
   "cell_type": "markdown",
   "metadata": {},
   "source": [
    "### Let's check the list of ingredients"
   ]
  },
  {
   "cell_type": "code",
   "execution_count": 42,
   "metadata": {},
   "outputs": [
    {
     "name": "stdout",
     "output_type": "stream",
     "text": [
      "                              count\n",
      "salt                          13681\n",
      "olive oil                      6026\n",
      "onions                         6024\n",
      "water                          5604\n",
      "garlic                         5574\n",
      "sugar                          4811\n",
      "garlic cloves                  4702\n",
      "butter                         3684\n",
      "ground black pepper            3591\n",
      "all-purpose flour              3515\n",
      "pepper                         3364\n",
      "vegetable oil                  3319\n",
      "eggs                           2582\n",
      "soy sauce                      2463\n",
      "tomatoes                       2323\n",
      "kosher salt                    2302\n",
      "green onions                   2295\n",
      "large eggs                     2197\n",
      "carrots                        2128\n",
      "unsalted butter                2085\n",
      "ground cumin                   2056\n",
      "extra-virgin olive oil         2025\n",
      "black pepper                   1955\n",
      "milk                           1713\n",
      "chili powder                   1552\n",
      "oil                            1522\n",
      "grated parmesan cheese         1464\n",
      "red bell pepper                1455\n",
      "scallions                      1428\n",
      "purple onion                   1423\n",
      "...                             ...\n",
      "pompano fillets                   1\n",
      "umeboshi plum vinegar             1\n",
      "quahog clams                      1\n",
      "blackberry brandy                 1\n",
      "honey graham crackers             1\n",
      "gravlax                           1\n",
      "Breakstone’s Sour Cream           1\n",
      "reduced sugar ketchup             1\n",
      "valencia rice                     1\n",
      "torpedo rolls                     1\n",
      "cloud ear fungus                  1\n",
      "guinea hens                       1\n",
      "tiger lily buds                   1\n",
      "kappa                             1\n",
      "light cream or half and half      1\n",
      "icing mix                         1\n",
      "schnapps                          1\n",
      "smoked fully cooked ham           1\n",
      "habanero powder                   1\n",
      "dry fettuccine                    1\n",
      "lobster stock                     1\n",
      "winter savory                     1\n",
      "mineral water                     1\n",
      "chile puree                       1\n",
      "frozen fruit                      1\n",
      "cold meatloaf                     1\n",
      "crusty whole wheat toast          1\n",
      "cabbage head                      1\n",
      "wood mushrooms                    1\n",
      "raspberry fruit spread            1\n",
      "\n",
      "[6251 rows x 1 columns]\n"
     ]
    }
   ],
   "source": [
    "ingredients = []\n",
    "for meal in trainset:\n",
    "    ingredients.extend(meal['ingredients'])\n",
    "\n",
    "ingredients_counter = Counter(ingredients)\n",
    "ingredients_df = pd.DataFrame.from_dict(ingredients_counter, orient='index')\n",
    "ingredients_df.columns = ['count']\n",
    "print(ingredients_df.sort_values(by='count', ascending=False))"
   ]
  },
  {
   "cell_type": "markdown",
   "metadata": {},
   "source": [
    "## Possible approaches\n",
    "* ensemble\n",
    "* number of ingredients\n",
    "* tf-idf\n",
    "* one hot\n",
    "* top ingredients\n",
    "* polynomial features"
   ]
  },
  {
   "cell_type": "markdown",
   "metadata": {},
   "source": [
    "# Model 1 - TFIDF on Linear SVC"
   ]
  },
  {
   "cell_type": "code",
   "execution_count": 179,
   "metadata": {},
   "outputs": [],
   "source": [
    "from sklearn.feature_extraction.text import TfidfVectorizer\n",
    "from sklearn.pipeline import Pipeline\n",
    "import numpy as np\n",
    "\n",
    "vectorizer = TfidfVectorizer(stop_words='english', ngram_range=(1, 1))\n",
    "ingredients_lists = [' '.join(meal['ingredients']) for meal in trainset]\n",
    "vectorizer.fit(ingredients_lists)\n",
    "\n",
    "def get_features(dataset):\n",
    "    ingredients_lists = [' '.join(meal['ingredients']) for meal in dataset]\n",
    "    X = vectorizer.transform(ingredients_lists)\n",
    "    return X\n",
    "\n",
    "def get_labels(dataset):\n",
    "    y = np.array([meal['cuisine'] for meal in dataset])\n",
    "    return y"
   ]
  },
  {
   "cell_type": "code",
   "execution_count": 180,
   "metadata": {},
   "outputs": [],
   "source": [
    "X_train, y_train = get_features(trainset), get_labels(trainset)"
   ]
  },
  {
   "cell_type": "markdown",
   "metadata": {},
   "source": [
    "### Shuffle data"
   ]
  },
  {
   "cell_type": "code",
   "execution_count": 181,
   "metadata": {},
   "outputs": [],
   "source": [
    "dataset_size = len(y_train)\n",
    "indices = np.random.permutation(dataset_size)\n",
    "X_train = X_train[indices]\n",
    "y_train = y_train[indices]"
   ]
  },
  {
   "cell_type": "markdown",
   "metadata": {},
   "source": [
    "## TODO\n",
    "* build the pipeline - validation, split, dumping results and the first model"
   ]
  },
  {
   "cell_type": "code",
   "execution_count": 182,
   "metadata": {},
   "outputs": [],
   "source": [
    "from sklearn.svm import LinearSVC\n",
    "from sklearn.ensemble import GradientBoostingClassifier\n",
    "classifier = LinearSVC()"
   ]
  },
  {
   "cell_type": "code",
   "execution_count": 183,
   "metadata": {},
   "outputs": [],
   "source": [
    "from sklearn.model_selection import GridSearchCV\n",
    "params = {'class_weight': ['balanced', None], 'C': [1, 2], 'fit_intercept': [False, True]}\n",
    "grid_search = GridSearchCV(estimator=classifier, param_grid=params, cv=8, verbose=5, n_jobs=7)"
   ]
  },
  {
   "cell_type": "code",
   "execution_count": null,
   "metadata": {},
   "outputs": [
    {
     "name": "stdout",
     "output_type": "stream",
     "text": [
      "Fitting 8 folds for each of 8 candidates, totalling 64 fits\n",
      "[CV] fit_intercept=False, C=1, class_weight=balanced .................\n",
      "[CV] fit_intercept=False, C=1, class_weight=balanced .................\n",
      "[CV] fit_intercept=False, C=1, class_weight=balanced .................\n",
      "[CV] fit_intercept=False, C=1, class_weight=balanced .................\n",
      "[CV] fit_intercept=False, C=1, class_weight=balanced .................\n",
      "[CV] fit_intercept=False, C=1, class_weight=balanced .................\n",
      "[CV] fit_intercept=False, C=1, class_weight=balanced .................\n",
      "[CV]  fit_intercept=False, C=1, class_weight=balanced, score=0.7651757188498403, total=   2.3s\n",
      "[CV] fit_intercept=False, C=1, class_weight=balanced .................\n",
      "[CV]  fit_intercept=False, C=1, class_weight=balanced, score=0.7723642172523961, total=   3.0s\n",
      "[CV]  fit_intercept=False, C=1, class_weight=balanced, score=0.7730420884389984, total=   3.0s\n",
      "[CV] fit_intercept=True, C=1, class_weight=balanced ..................\n",
      "[CV] fit_intercept=True, C=1, class_weight=balanced ..................\n",
      "[CV]  fit_intercept=False, C=1, class_weight=balanced, score=0.7626531699520511, total=   3.0s\n",
      "[CV]  fit_intercept=False, C=1, class_weight=balanced, score=0.7730061349693251, total=   3.0s\n",
      "[CV] fit_intercept=True, C=1, class_weight=balanced ..................\n",
      "[CV]  fit_intercept=False, C=1, class_weight=balanced, score=0.7752269087026161, total=   3.0s\n",
      "[CV] fit_intercept=True, C=1, class_weight=balanced ..................\n",
      "[CV]  fit_intercept=False, C=1, class_weight=balanced, score=0.7691691156826075, total=   3.0s\n",
      "[CV] fit_intercept=True, C=1, class_weight=balanced ..................\n",
      "[CV] fit_intercept=True, C=1, class_weight=balanced ..................\n"
     ]
    },
    {
     "name": "stderr",
     "output_type": "stream",
     "text": [
      "[Parallel(n_jobs=7)]: Done   4 tasks      | elapsed:    3.2s\n"
     ]
    },
    {
     "name": "stdout",
     "output_type": "stream",
     "text": [
      "[CV]  fit_intercept=False, C=1, class_weight=balanced, score=0.7608230892570818, total=   2.7s\n",
      "[CV] fit_intercept=True, C=1, class_weight=balanced ..................\n",
      "[CV]  fit_intercept=True, C=1, class_weight=balanced, score=0.7638445154419595, total=   3.5s\n",
      "[CV] fit_intercept=True, C=1, class_weight=balanced ..................\n",
      "[CV]  fit_intercept=True, C=1, class_weight=balanced, score=0.769271805814884, total=   4.2s\n",
      "[CV] fit_intercept=False, C=1, class_weight=None .....................\n",
      "[CV]  fit_intercept=True, C=1, class_weight=balanced, score=0.7744941427050053, total=   4.5s\n",
      "[CV]  fit_intercept=True, C=1, class_weight=balanced, score=0.7741076185402238, total=   4.5s\n",
      "[CV] fit_intercept=False, C=1, class_weight=None .....................\n",
      "[CV] fit_intercept=False, C=1, class_weight=None .....................\n",
      "[CV]  fit_intercept=True, C=1, class_weight=balanced, score=0.7637187000532765, total=   4.5s\n",
      "[CV] fit_intercept=False, C=1, class_weight=None .....................\n",
      "[CV]  fit_intercept=True, C=1, class_weight=balanced, score=0.7808328884143086, total=   4.5s\n",
      "[CV] fit_intercept=False, C=1, class_weight=None .....................\n",
      "[CV]  fit_intercept=False, C=1, class_weight=None, score=0.7819488817891374, total=   2.1s\n",
      "[CV] fit_intercept=False, C=1, class_weight=None .....................\n",
      "[CV]  fit_intercept=True, C=1, class_weight=balanced, score=0.7678332888057707, total=   4.7s\n",
      "[CV] fit_intercept=False, C=1, class_weight=None .....................\n",
      "[CV]  fit_intercept=False, C=1, class_weight=None, score=0.7846112886048988, total=   2.4s\n",
      "[CV] fit_intercept=False, C=1, class_weight=None .....................\n",
      "[CV]  fit_intercept=False, C=1, class_weight=None, score=0.7863612147043154, total=   2.5s\n",
      "[CV] fit_intercept=True, C=1, class_weight=None ......................\n",
      "[CV]  fit_intercept=False, C=1, class_weight=None, score=0.7852956846030901, total=   2.5s\n",
      "[CV] fit_intercept=True, C=1, class_weight=None ......................\n",
      "[CV]  fit_intercept=False, C=1, class_weight=None, score=0.7903440917578021, total=   2.5s\n",
      "[CV] fit_intercept=True, C=1, class_weight=None ......................\n",
      "[CV]  fit_intercept=True, C=1, class_weight=balanced, score=0.7653661143773384, total=   4.6s\n",
      "[CV] fit_intercept=True, C=1, class_weight=None ......................\n",
      "[CV]  fit_intercept=False, C=1, class_weight=None, score=0.7941804591564335, total=   2.1s\n",
      "[CV] fit_intercept=True, C=1, class_weight=None ......................\n",
      "[CV]  fit_intercept=False, C=1, class_weight=None, score=0.7841303767031793, total=   2.5s\n",
      "[CV] fit_intercept=True, C=1, class_weight=None ......................\n",
      "[CV]  fit_intercept=False, C=1, class_weight=None, score=0.7800641368252271, total=   2.5s\n",
      "[CV] fit_intercept=True, C=1, class_weight=None ......................\n",
      "[CV]  fit_intercept=True, C=1, class_weight=None, score=0.7847629195524773, total=   3.2s\n",
      "[CV] fit_intercept=True, C=1, class_weight=None ......................\n",
      "[CV]  fit_intercept=True, C=1, class_weight=None, score=0.7824813631522897, total=   3.5s\n",
      "[CV] fit_intercept=False, C=2, class_weight=balanced .................\n",
      "[CV]  fit_intercept=True, C=1, class_weight=None, score=0.7870074547390842, total=   3.5s\n",
      "[CV] fit_intercept=False, C=2, class_weight=balanced .................\n",
      "[CV]  fit_intercept=True, C=1, class_weight=None, score=0.7879434515870899, total=   3.0s\n",
      "[CV] fit_intercept=False, C=2, class_weight=balanced .................\n",
      "[CV]  fit_intercept=True, C=1, class_weight=None, score=0.7892914224826851, total=   3.5s\n",
      "[CV] fit_intercept=False, C=2, class_weight=balanced .................\n",
      "[CV]  fit_intercept=True, C=1, class_weight=None, score=0.7941804591564335, total=   3.5s\n",
      "[CV] fit_intercept=False, C=2, class_weight=balanced .................\n"
     ]
    }
   ],
   "source": [
    "grid_search.fit(X_train, y_train)"
   ]
  },
  {
   "cell_type": "code",
   "execution_count": 173,
   "metadata": {},
   "outputs": [
    {
     "name": "stdout",
     "output_type": "stream",
     "text": [
      "0.7859\n",
      "{'fit_intercept': True, 'class_weight': None, 'C': 1}\n"
     ]
    }
   ],
   "source": [
    "from sklearn.metrics import classification_report\n",
    "best_classifier = grid_search.best_estimator_\n",
    "y_pred = best_classifier.predict(X_train)\n",
    "print(grid_search.best_score_)\n",
    "print(grid_search.best_params_)"
   ]
  },
  {
   "cell_type": "code",
   "execution_count": 174,
   "metadata": {},
   "outputs": [],
   "source": [
    "with open('cooking_test.json') as f:\n",
    "    testset = json.load(f)\n",
    "\n",
    "X_test = get_features(testset) "
   ]
  },
  {
   "cell_type": "code",
   "execution_count": 175,
   "metadata": {},
   "outputs": [],
   "source": [
    "y_test = best_classifier.predict(X_test)"
   ]
  },
  {
   "cell_type": "code",
   "execution_count": 176,
   "metadata": {},
   "outputs": [
    {
     "name": "stdout",
     "output_type": "stream",
     "text": [
      "      Id   cuisine\n",
      "0  24888   italian\n",
      "1  43564  moroccan\n",
      "2  21898   italian\n",
      "3   6991  moroccan\n",
      "4  37700   spanish\n"
     ]
    }
   ],
   "source": [
    "ids = [item['id'] for item in testset]\n",
    "results = pd.DataFrame.from_dict({'Id': ids, 'cuisine': y_test})\n",
    "print(results.head())"
   ]
  },
  {
   "cell_type": "code",
   "execution_count": 177,
   "metadata": {},
   "outputs": [],
   "source": [
    "with open('my_submission.csv', 'w') as res:\n",
    "    results.to_csv(res, index=False)"
   ]
  },
  {
   "cell_type": "code",
   "execution_count": 178,
   "metadata": {},
   "outputs": [
    {
     "name": "stdout",
     "output_type": "stream",
     "text": [
      "Id,cuisine\r\n",
      "24888,italian\r\n",
      "43564,moroccan\r\n",
      "21898,italian\r\n",
      "6991,moroccan\r\n",
      "37700,spanish\r\n",
      "43546,southern_us\r\n",
      "20544,chinese\r\n",
      "14160,italian\r\n",
      "21405,irish\r\n"
     ]
    }
   ],
   "source": [
    "!head my_submission.csv"
   ]
  },
  {
   "cell_type": "code",
   "execution_count": null,
   "metadata": {},
   "outputs": [],
   "source": []
  }
 ],
 "metadata": {
  "kernelspec": {
   "display_name": "Python 3",
   "language": "python",
   "name": "python3"
  },
  "language_info": {
   "codemirror_mode": {
    "name": "ipython",
    "version": 3
   },
   "file_extension": ".py",
   "mimetype": "text/x-python",
   "name": "python",
   "nbconvert_exporter": "python",
   "pygments_lexer": "ipython3",
   "version": "3.5.2"
  }
 },
 "nbformat": 4,
 "nbformat_minor": 2
}
